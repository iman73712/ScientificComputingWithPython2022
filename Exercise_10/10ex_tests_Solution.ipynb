{
 "cells": [
  {
   "cell_type": "markdown",
   "metadata": {},
   "source": [
    "1\\. **Hurricanes per Year**\n",
    "\n",
    "The number of hurricanes in 2005 was 15. The historic average is 6.3. Is this number signficantly different?\n",
    "- Assume the number of hurricanes is random, i.e. follows the Poisson distribution.\n",
    "- Assume as statistically significant a probability that has a Z score of 3 or larger with respect a normal distribution.\n",
    "\n",
    "**Hint**: compute the probability that in a single year are observed 15 or more hurricances."
   ]
  },
  {
   "cell_type": "code",
   "execution_count": 1,
   "metadata": {},
   "outputs": [
    {
     "ename": "ModuleNotFoundError",
     "evalue": "No module named 'numpy'",
     "output_type": "error",
     "traceback": [
      "\u001b[1;31m---------------------------------------------------------------------------\u001b[0m",
      "\u001b[1;31mModuleNotFoundError\u001b[0m                       Traceback (most recent call last)",
      "Cell \u001b[1;32mIn[1], line 1\u001b[0m\n\u001b[1;32m----> 1\u001b[0m \u001b[39mimport\u001b[39;00m \u001b[39mnumpy\u001b[39;00m \u001b[39mas\u001b[39;00m \u001b[39mnp\u001b[39;00m\n\u001b[0;32m      2\u001b[0m \u001b[39mimport\u001b[39;00m \u001b[39mmath\u001b[39;00m\n\u001b[0;32m      3\u001b[0m \u001b[39mimport\u001b[39;00m \u001b[39mscipy\u001b[39;00m\u001b[39m.\u001b[39;00m\u001b[39mstats\u001b[39;00m \u001b[39mas\u001b[39;00m \u001b[39mst\u001b[39;00m\n",
      "\u001b[1;31mModuleNotFoundError\u001b[0m: No module named 'numpy'"
     ]
    }
   ],
   "source": [
    "import numpy as np\n",
    "import math\n",
    "import scipy.stats as st"
   ]
  },
  {
   "cell_type": "code",
   "execution_count": null,
   "metadata": {},
   "outputs": [],
   "source": [
    "def poisson(Lambda, k):\n",
    "  return Lambda**k * np.e**(-Lambda) / math.factorial(k)"
   ]
  },
  {
   "cell_type": "code",
   "execution_count": null,
   "metadata": {},
   "outputs": [],
   "source": [
    "prob = 0\n",
    "for i in range(15, 30):\n",
    "  prob += poisson(Lambda=6.3, k=i)\n",
    "print(prob)"
   ]
  },
  {
   "cell_type": "code",
   "execution_count": null,
   "metadata": {},
   "outputs": [],
   "source": [
    "prob_base = 1 - st.norm.cdf(3)\n",
    "print(prob_base)"
   ]
  },
  {
   "cell_type": "markdown",
   "metadata": {},
   "source": [
    "2\\. **Pairwise t-test**\n",
    "\n",
    "In an experiment, a group of 10 individuals agreed to participate in a study of blood pressure changes following exposure to halogen lighting. Resting systolic blood pressure was recorded for each individual. The participants were then exposed to 20 minutes in a room lit only by halogen lamps. A post-exposure systolic blood pressure reading was recorded for each individual. The results are presented in the following data set:\n",
    "\n",
    "```python\n",
    "pre = np.array([120, 132, 120, 110, 115, 128, 120, 112, 110, 100])\n",
    "post = np.array([140, 156, 145, 130, 117, 148, 137, 119, 127, 135])\n",
    "```\n",
    "\n",
    "Determine whether the change in blood pressures within our sample was statistically significant.\n",
    "\n",
    "**Hint:**\n",
    "in this case, the Student's $t$-test should be performed to compare the two datasets.\n",
    "Use the following test statistics:\n",
    "\n",
    "$$T = \\frac{\\bar{x}_1 - \\bar{x}_2}{\\sigma \\sqrt{\\frac{2}{n}}}$$\n",
    "\n",
    "and \n",
    "\n",
    "$$\\sigma = \\sqrt{\\frac{\\sigma_1^2 + \\sigma_2^2}{2}}$$"
   ]
  },
  {
   "cell_type": "code",
   "execution_count": 2,
   "metadata": {},
   "outputs": [
    {
     "ename": "NameError",
     "evalue": "name 'np' is not defined",
     "output_type": "error",
     "traceback": [
      "\u001b[1;31m---------------------------------------------------------------------------\u001b[0m",
      "\u001b[1;31mNameError\u001b[0m                                 Traceback (most recent call last)",
      "Cell \u001b[1;32mIn[2], line 1\u001b[0m\n\u001b[1;32m----> 1\u001b[0m pre \u001b[39m=\u001b[39m np\u001b[39m.\u001b[39marray([\u001b[39m120\u001b[39m, \u001b[39m132\u001b[39m, \u001b[39m120\u001b[39m, \u001b[39m110\u001b[39m, \u001b[39m115\u001b[39m, \u001b[39m128\u001b[39m, \u001b[39m120\u001b[39m, \u001b[39m112\u001b[39m, \u001b[39m110\u001b[39m, \u001b[39m100\u001b[39m])\n\u001b[0;32m      2\u001b[0m post \u001b[39m=\u001b[39m np\u001b[39m.\u001b[39marray([\u001b[39m140\u001b[39m, \u001b[39m156\u001b[39m, \u001b[39m145\u001b[39m, \u001b[39m130\u001b[39m, \u001b[39m117\u001b[39m, \u001b[39m148\u001b[39m, \u001b[39m137\u001b[39m, \u001b[39m119\u001b[39m, \u001b[39m127\u001b[39m, \u001b[39m135\u001b[39m])\n\u001b[0;32m      3\u001b[0m x_bar_1 \u001b[39m=\u001b[39m np\u001b[39m.\u001b[39mmean(pre)\n",
      "\u001b[1;31mNameError\u001b[0m: name 'np' is not defined"
     ]
    }
   ],
   "source": [
    "pre = np.array([120, 132, 120, 110, 115, 128, 120, 112, 110, 100])\n",
    "post = np.array([140, 156, 145, 130, 117, 148, 137, 119, 127, 135])\n",
    "x_bar_1 = np.mean(pre)\n",
    "x_bar_2 = np.mean(post)\n",
    "sigma_1 = np.std(pre)\n",
    "sigma_2 = np.std(post)\n",
    "sigma = ((sigma_1**2 + sigma_2**2) / 2)**0.5\n",
    "T = abs((x_bar_1 - x_bar_2) / (sigma * (np.sqrt(2/len(pre)))))\n",
    "T"
   ]
  },
  {
   "cell_type": "code",
   "execution_count": 3,
   "metadata": {},
   "outputs": [
    {
     "ename": "NameError",
     "evalue": "name 'st' is not defined",
     "output_type": "error",
     "traceback": [
      "\u001b[1;31m---------------------------------------------------------------------------\u001b[0m",
      "\u001b[1;31mNameError\u001b[0m                                 Traceback (most recent call last)",
      "Cell \u001b[1;32mIn[3], line 1\u001b[0m\n\u001b[1;32m----> 1\u001b[0m t_crit \u001b[39m=\u001b[39m st\u001b[39m.\u001b[39mt\u001b[39m.\u001b[39mppf(q\u001b[39m=\u001b[39m\u001b[39m0.975\u001b[39m, df\u001b[39m=\u001b[39m\u001b[39mlen\u001b[39m(pre)\u001b[39m+\u001b[39m\u001b[39mlen\u001b[39m(post)\u001b[39m-\u001b[39m\u001b[39m1\u001b[39m)\n\u001b[0;32m      2\u001b[0m t_crit\n",
      "\u001b[1;31mNameError\u001b[0m: name 'st' is not defined"
     ]
    }
   ],
   "source": [
    "t_crit = st.t.ppf(q=0.975, df=len(pre)+len(post)-1)\n",
    "t_crit"
   ]
  },
  {
   "cell_type": "markdown",
   "metadata": {},
   "source": [
    "3\\. **Curve fitting of temperature in Alaska** \n",
    "\n",
    "The temperature extremes in Alaska for each month, starting in January, are given by (in degrees Celcius):\n",
    "\n",
    "max:  `17,  19,  21,  28,  33,  38, 37,  37,  31,  23,  19,  18`\n",
    "\n",
    "min: `-62, -59, -56, -46, -32, -18, -9, -13, -25, -46, -52, -58`\n",
    "\n",
    "* Plot these temperatures.\n",
    "* Find a suitable a function that can describe min and max temperatures. \n",
    "* Fit this function to the data with `scipy.optimize.curve_fit()`.\n",
    "* Plot the result. Is the fit reasonable? If not, why?\n",
    "* Is the time offset for min and max temperatures the same within the fit accuracy?"
   ]
  },
  {
   "cell_type": "code",
   "execution_count": null,
   "metadata": {},
   "outputs": [],
   "source": [
    "import matplotlib.pyplot as plt\n",
    "from scipy.optimize import curve_fit\n",
    "max_t = [17, 19, 21, 28, 33, 38, 37, 37, 31, 23, 19, 18]\n",
    "min_t = [-62, -59, -56, -46, -32, -18, -9, -13, -25, -46, -52, -58]\n",
    "t = [i for i in range(0, len(max_t))]\n",
    "\n",
    "plt.plot(t, min_t)\n",
    "plt.plot(t, max_t)\n",
    "plt.legend(['min', 'max'])\n",
    "plt.show()"
   ]
  },
  {
   "cell_type": "code",
   "execution_count": null,
   "metadata": {},
   "outputs": [],
   "source": [
    "def cos_func(x, D, E):\n",
    "    y = D*np.cos(int(E)*x)\n",
    "    return y\n",
    "parameters, covariance = curve_fit(f=cos_func, xdata=t, ydata=min_t)\n",
    "fit_D = parameters[0]\n",
    "fit_E = parameters[1]\n",
    "\n",
    "fit_cosine = cos_func(t, fit_D, fit_E)\n",
    "\n",
    "plt.plot(t, min_t, 'o', label='data')\n",
    "plt.plot(t, fit_cosine, '-', label='fit')\n",
    "plt.show()"
   ]
  },
  {
   "cell_type": "code",
   "execution_count": null,
   "metadata": {},
   "outputs": [],
   "source": [
    "def cos_func(x, D, E):\n",
    "    y = D*np.cos(int(E)*x)\n",
    "    return y\n",
    "parameters, covariance = curve_fit(f=cos_func, xdata=t, ydata=max_t)\n",
    "fit_D = parameters[0]\n",
    "fit_E = parameters[1]\n",
    "\n",
    "fit_cosine = cos_func(t, fit_D, fit_E)\n",
    "\n",
    "plt.plot(t, max_t, 'o', label='data')\n",
    "plt.plot(t, fit_cosine, '-', label='fit')\n",
    "plt.show()"
   ]
  },
  {
   "cell_type": "code",
   "execution_count": null,
   "metadata": {},
   "outputs": [],
   "source": [
    "guess = [10, 0.7]\n",
    "parameters, covariance = curve_fit(f=cos_func, xdata=t, ydata=max_t, p0=guess)\n",
    "fit_D = parameters[0]\n",
    "fit_E = parameters[1]\n",
    "\n",
    "fit_cosine = cos_func(t, fit_D, fit_E)\n",
    "plt.plot(t, max_t, 'o', label='data')\n",
    "plt.plot(t, fit_cosine, '-', label='fit')\n",
    "plt.show()"
   ]
  },
  {
   "cell_type": "markdown",
   "metadata": {},
   "source": [
    "4\\. **Fit the residues**\n",
    "\n",
    "Read the `data/residuals_261.pkl` file. If you haven't got it already, download it from here:\n",
    "\n",
    "```bash\n",
    "wget https://www.dropbox.com/s/3uqleyc3wyz52tr/residuals_261.pkl -P data/\n",
    "```\n",
    "\n",
    "The feature named `residual` contains the residuals (defined as $y_i - \\hat{y}_i$) of a linear regression as a function of the independent variable `distances`.\n",
    "\n",
    "- Considering only the \"residual\" feature, create an histogram with the appropriate binning and plot it.\n",
    "- Set the appropriate Poisson uncertainty for each bin (thus, for each bin, $\\sigma_i = \\sqrt{n_i}$, where $n_i$ is the number of entries in each bin)\n",
    "- By looking at the distribution of the residuals, define an appropriate function and fit it to the histogram of the residuals\n",
    "- Perform a goodness-of-fit test. Is the p-value of the fit satisfactory?"
   ]
  },
  {
   "cell_type": "code",
   "execution_count": null,
   "metadata": {},
   "outputs": [],
   "source": [
    "!wget https://www.dropbox.com/s/3uqleyc3wyz52tr/residuals_261.pkl -P data/"
   ]
  },
  {
   "cell_type": "markdown",
   "metadata": {},
   "source": [
    "5\\. **Temperatures in Munich**\n",
    "\n",
    "Get the following data file:\n",
    "\n",
    "```bash\n",
    "https://www.dropbox.com/s/7gy9yjl00ymxb8h/munich_temperatures_average_with_bad_data.txt\n",
    "```\n",
    "\n",
    "which gives the temperature in Munich every day for several years.\n",
    "\n",
    "\n",
    "Fit the following function to the data:\n",
    "\n",
    "$$f(t) = a \\cos(2\\pi t + b)+c$$\n",
    "\n",
    "where $t$ is the time in years.\n",
    "\n",
    "- Make a plot of the data and the best-fit model in the range 2008 to 2012.\n",
    "\n",
    "   - What are the best-fit values of the parameters?\n",
    "\n",
    "   - What is the overall average temperature in Munich, and what are the typical daily average values predicted by the model for the coldest and hottest time of year?\n",
    "\n",
    "   - What is the meaning of the $b$ parameter, and what physical sense does it have?\n",
    "\n",
    "\n",
    "- Now fit the data with the function $g(x)$, which has 1 more parameter than $f(x)$.\n",
    "$$g(x) = a \\cos(2\\pi b t + c)+d$$\n",
    "   - What are the RSS for $f(x)$ and $g(x)$?\n",
    "   - Use the Fisher F-test to determine whether the additional parameter is motivated."
   ]
  },
  {
   "cell_type": "code",
   "execution_count": null,
   "metadata": {},
   "outputs": [],
   "source": [
    "!wget https://www.dropbox.com/s/7gy9yjl00ymxb8h/munich_temperatures_average_with_bad_data.txt"
   ]
  },
  {
   "cell_type": "code",
   "execution_count": null,
   "metadata": {},
   "outputs": [],
   "source": [
    "import pandas as pd\n",
    "df = pd.read_csv(\"/content/munich_temperatures_average_with_bad_data.txt\", delimiter=\" \")\n",
    "df.columns = ['c1', 'c2']"
   ]
  },
  {
   "cell_type": "code",
   "execution_count": null,
   "metadata": {},
   "outputs": [],
   "source": [
    "def function(a, b, c):\n",
    "    return a*np.cos(2*np.pi.t+b) + c\n",
    "parameters, covariance = curve_fit(f=cos_func, xdata=df['c1'], ydata=df['c2'])\n",
    "fit_D = parameters[0]\n",
    "fit_E = parameters[1]\n",
    "\n",
    "fit_cosine = function(t, fit_D, fit_E)\n",
    "\n",
    "plt.plot(t, max_t, 'o', label='data')\n",
    "plt.plot(t, fit_cosine, '-', label='fit')\n",
    "plt.show()"
   ]
  },
  {
   "cell_type": "code",
   "execution_count": 4,
   "metadata": {},
   "outputs": [
    {
     "ename": "NameError",
     "evalue": "name 'curve_fit' is not defined",
     "output_type": "error",
     "traceback": [
      "\u001b[1;31m---------------------------------------------------------------------------\u001b[0m",
      "\u001b[1;31mNameError\u001b[0m                                 Traceback (most recent call last)",
      "Cell \u001b[1;32mIn[4], line 2\u001b[0m\n\u001b[0;32m      1\u001b[0m uess \u001b[39m=\u001b[39m [\u001b[39m15\u001b[39m, \u001b[39m1.45\u001b[39m]\n\u001b[1;32m----> 2\u001b[0m parameters, covariance \u001b[39m=\u001b[39m curve_fit(f\u001b[39m=\u001b[39mfunction, xdata\u001b[39m=\u001b[39mdf[\u001b[39m'\u001b[39m\u001b[39mc1\u001b[39m\u001b[39m'\u001b[39m], ydata\u001b[39m=\u001b[39mdf[\u001b[39m'\u001b[39m\u001b[39mc1\u001b[39m\u001b[39m'\u001b[39m], p0\u001b[39m=\u001b[39mguess)\n\u001b[0;32m      3\u001b[0m fit_D \u001b[39m=\u001b[39m parameters[\u001b[39m0\u001b[39m]\n\u001b[0;32m      4\u001b[0m fit_E \u001b[39m=\u001b[39m parameters[\u001b[39m1\u001b[39m]\n",
      "\u001b[1;31mNameError\u001b[0m: name 'curve_fit' is not defined"
     ]
    }
   ],
   "source": [
    "uess = [15, 1.45]\n",
    "parameters, covariance = curve_fit(f=function, xdata=df['c1'], ydata=df['c1'], p0=guess)\n",
    "fit_D = parameters[0]\n",
    "fit_E = parameters[1]\n",
    "\n",
    "fit_cosine = cos_func(t, fit_D, fit_E)\n",
    "plt.plot(t, max_t, 'o', label='data')\n",
    "plt.plot(t, fit_cosine, '-', label='fit')\n",
    "plt.show()"
   ]
  }
 ],
 "metadata": {
  "kernelspec": {
   "display_name": "Python 3.10.8 64-bit",
   "language": "python",
   "name": "python3"
  },
  "language_info": {
   "codemirror_mode": {
    "name": "ipython",
    "version": 3
   },
   "file_extension": ".py",
   "mimetype": "text/x-python",
   "name": "python",
   "nbconvert_exporter": "python",
   "pygments_lexer": "ipython3",
   "version": "3.10.8"
  },
  "vscode": {
   "interpreter": {
    "hash": "2f5851b7de1ed89eb22bef06fbd218e8e011c8c545443e04320c8bad61c64920"
   }
  }
 },
 "nbformat": 4,
 "nbformat_minor": 2
}
