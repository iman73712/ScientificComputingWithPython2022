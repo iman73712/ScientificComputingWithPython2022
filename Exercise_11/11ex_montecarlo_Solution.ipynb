{
 "cells": [
  {
   "cell_type": "markdown",
   "metadata": {},
   "source": [
    "1\\. **Radioactive decay chain**\n",
    "\n",
    "${\\rm Tl}^{208}$ decays to ${\\rm Pb}^{208}$ with a half-life $\\tau$ of 3.052 minutes. Suppose to start with a sample of 1000 Thallium atoms and 0 of Lead atoms.\n",
    "\n",
    "* Take steps in time of 1 second and at each time-step decide whether each Tl atom has decayed or not, accordingly to the probability $p(t)=1-2^{-t/\\tau}$. Subtract the total number of Tl atoms that decayed at each step from the Tl sample and add them to the Lead one. Plot the evolution of the two sets as a function of time  \n",
    "* Repeat the exercise by means of the inverse transform method: draw 1000 random numbers from the non-uniform probability distribution $p(t)=2^{-t/\\tau}\\frac{\\ln 2}{\\tau}$ to represent the times of decay of the 1000 Tl atoms. Make a plot showing the number of atoms that have not decayed as a function of time"
   ]
  },
  {
   "cell_type": "code",
   "execution_count": null,
   "metadata": {},
   "outputs": [],
   "source": [
    "p1 = lambda x: 1 - 2**(-x/3.052)\n",
    "p2 = lambda x: 2**((-x*np.log(2))/(3.052/3.052))\n",
    "initial = 1000\n",
    "history = []\n",
    "for i in range(1000):\n",
    "  history.append(initial)\n",
    "  initial -= p1(i)\n",
    "  \n",
    "plt.plot(list(range(1000)), history)\n",
    "plt.show()"
   ]
  },
  {
   "cell_type": "code",
   "execution_count": null,
   "metadata": {},
   "outputs": [],
   "source": [
    "p1 = lambda x: 1 - 2**(-x/3.052)\n",
    "p2 = lambda x: 2**((-x*np.log(2))/(3.052))/3.052\n",
    "initial = 1000\n",
    "history = []\n",
    "for i in range(1000):\n",
    "  history.append(initial)\n",
    "  initial -= p2(i)\n",
    "  \n",
    "plt.plot(list(range(1000)), history)\n",
    "plt.show()"
   ]
  },
  {
   "cell_type": "markdown",
   "metadata": {},
   "source": [
    "2\\. **Monte Carlo integration: hit/miss vs mean value method**\n",
    "\n",
    "Consider the function: \n",
    "\n",
    "$$f(x) =\\sin^2{\\left( \\frac{1}{1-x} \\right)}$$\n",
    "\n",
    "* Plot the function and compute the integral of $f(x)$ between 0 and 2 with the hit/miss method. Evaluate the error of your estimate (hint: repeat the integral $N$ times, and from the distribution of the integrals take the mean value and the standard deviation, the latter rescaled by the appropriate factor)\n",
    "* Repeat the integral with the mean value method. Evaluate the error and compare it with the previous one."
   ]
  },
  {
   "cell_type": "code",
   "execution_count": null,
   "metadata": {},
   "outputs": [],
   "source": [
    "import numpy as np\n",
    "import matplotlib.pyplot as plt"
   ]
  },
  {
   "cell_type": "code",
   "execution_count": null,
   "metadata": {},
   "outputs": [],
   "source": [
    "x_min = 0\n",
    "x_max = 2\n",
    "t = np.linspace(x_min, x_max, 100)\n",
    "fun = lambda x: np.sin(1/(1-x))**2\n",
    "y = fun(t)\n",
    "plt.plot(t, y)\n",
    "plt.show()"
   ]
  },
  {
   "cell_type": "code",
   "execution_count": null,
   "metadata": {},
   "outputs": [],
   "source": [
    "integral = 0\n",
    "bin = (x_max - x_min) / 100\n",
    "for i in t:\n",
    "  x_min += bin\n",
    "  integral += bin * fun(x_min)\n",
    "print(f\"Integral in this interval: {integral}\")"
   ]
  },
  {
   "cell_type": "markdown",
   "metadata": {},
   "source": [
    "3\\. **Monte Carlo integration in high dimension**\n",
    "\n",
    "* Compute the area of a circle of unit radius, by integrating the function:\n",
    "\n",
    "$$\n",
    "f(x,y)=\n",
    "\\left\\{\n",
    "\\begin{array}{ll}\n",
    "      1 & x^2+y^2\\le 1 \\\\\n",
    "      0 & {\\rm elsewhere}\n",
    "\\end{array} \n",
    "\\right.\n",
    "$$\n",
    "\n",
    "* Generalize the result for a 10D sphere."
   ]
  },
  {
   "cell_type": "code",
   "execution_count": 2,
   "metadata": {},
   "outputs": [
    {
     "ename": "NameError",
     "evalue": "name 'np' is not defined",
     "output_type": "error",
     "traceback": [
      "\u001b[1;31m---------------------------------------------------------------------------\u001b[0m",
      "\u001b[1;31mNameError\u001b[0m                                 Traceback (most recent call last)",
      "Cell \u001b[1;32mIn[2], line 4\u001b[0m\n\u001b[0;32m      2\u001b[0m x_min, y_min \u001b[39m=\u001b[39m \u001b[39m-\u001b[39m\u001b[39m1\u001b[39m, \u001b[39m-\u001b[39m\u001b[39m1\u001b[39m\n\u001b[0;32m      3\u001b[0m x_max, y_max \u001b[39m=\u001b[39m \u001b[39m+\u001b[39m\u001b[39m1\u001b[39m, \u001b[39m+\u001b[39m\u001b[39m1\u001b[39m\n\u001b[1;32m----> 4\u001b[0m x_s \u001b[39m=\u001b[39m np\u001b[39m.\u001b[39mlinspace(x_min, x_max, \u001b[39m100\u001b[39m)\n\u001b[0;32m      5\u001b[0m y_s \u001b[39m=\u001b[39m np\u001b[39m.\u001b[39mlinspace(y_min, y_max, \u001b[39m100\u001b[39m)\n\u001b[0;32m      6\u001b[0m \u001b[39mbin\u001b[39m \u001b[39m=\u001b[39m \u001b[39m2\u001b[39m\u001b[39m/\u001b[39m\u001b[39m100\u001b[39m\n",
      "\u001b[1;31mNameError\u001b[0m: name 'np' is not defined"
     ]
    }
   ],
   "source": [
    "intgrl = 0\n",
    "x_min, y_min = -1, -1\n",
    "x_max, y_max = +1, +1\n",
    "x_s = np.linspace(x_min, x_max, 100)\n",
    "y_s = np.linspace(y_min, y_max, 100)\n",
    "bin = 2/100\n",
    "f = lambda x, y:1 if x**2 + y**2 <= 1 else 0\n",
    "for i in x_s:\n",
    "  for j in y_s:\n",
    "    x_min += bin\n",
    "    y_min = abs(1-x_min**2)**0.5\n",
    "    intgrl += bin * f(x_min, y_min)\n",
    "print(f\"The area is :{intgrl}\")"
   ]
  },
  {
   "cell_type": "markdown",
   "metadata": {},
   "source": [
    "4\\. **Monte Carlo integration with importance sampling** \n",
    "\n",
    "Calculate the value of the integral:\n",
    "\n",
    "$$\n",
    "I=\\int_0^1 \\frac{x^{-1/2}}{e^x+1} dx\n",
    "$$\n",
    "\n",
    "using the importance sampling method with $w(x)=1/\\sqrt{x}$. You should expect a result around 0.84."
   ]
  },
  {
   "cell_type": "code",
   "execution_count": 1,
   "metadata": {},
   "outputs": [
    {
     "ename": "NameError",
     "evalue": "name 'np' is not defined",
     "output_type": "error",
     "traceback": [
      "\u001b[1;31m---------------------------------------------------------------------------\u001b[0m",
      "\u001b[1;31mNameError\u001b[0m                                 Traceback (most recent call last)",
      "Cell \u001b[1;32mIn[1], line 4\u001b[0m\n\u001b[0;32m      2\u001b[0m x_min \u001b[39m=\u001b[39m \u001b[39m0\u001b[39m\n\u001b[0;32m      3\u001b[0m x_max \u001b[39m=\u001b[39m \u001b[39m1\u001b[39m\n\u001b[1;32m----> 4\u001b[0m x \u001b[39m=\u001b[39m np\u001b[39m.\u001b[39mlinspace(x_min, x_max, \u001b[39m100\u001b[39m)\n\u001b[0;32m      5\u001b[0m \u001b[39mbin\u001b[39m \u001b[39m=\u001b[39m \u001b[39m1\u001b[39m\u001b[39m/\u001b[39m\u001b[39m100\u001b[39m\n\u001b[0;32m      6\u001b[0m g \u001b[39m=\u001b[39m \u001b[39mlambda\u001b[39;00m x: \u001b[39m1\u001b[39m\u001b[39m/\u001b[39mnp\u001b[39m.\u001b[39msqrt(x)\n",
      "\u001b[1;31mNameError\u001b[0m: name 'np' is not defined"
     ]
    }
   ],
   "source": [
    "I = 0\n",
    "x_min = 0\n",
    "x_max = 1\n",
    "x = np.linspace(x_min, x_max, 100)\n",
    "bin = 1/100\n",
    "g = lambda x: 1/np.sqrt(x)\n",
    "function = lambda x: x**(-0.5) / (np.e**x +1)\n",
    "for i in x:\n",
    "  x_min += bin\n",
    "  I += bin * function(x_min) * g(x_min)\n",
    "print(f\"I is equal to : {I}\")"
   ]
  }
 ],
 "metadata": {
  "kernelspec": {
   "display_name": "Python 3.10.8 64-bit",
   "language": "python",
   "name": "python3"
  },
  "language_info": {
   "codemirror_mode": {
    "name": "ipython",
    "version": 3
   },
   "file_extension": ".py",
   "mimetype": "text/x-python",
   "name": "python",
   "nbconvert_exporter": "python",
   "pygments_lexer": "ipython3",
   "version": "3.10.8"
  },
  "vscode": {
   "interpreter": {
    "hash": "2f5851b7de1ed89eb22bef06fbd218e8e011c8c545443e04320c8bad61c64920"
   }
  }
 },
 "nbformat": 4,
 "nbformat_minor": 2
}
