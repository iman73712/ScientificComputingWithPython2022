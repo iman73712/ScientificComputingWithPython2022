{
 "cells": [
  {
   "cell_type": "markdown",
   "metadata": {},
   "source": [
    "1\\. **2D minimization of a six-hump camelback function**\n",
    "\n",
    "$$f(x,y) = \\left(4-2.1x^2+\\frac{x^4}{3} \\right) x^2 +xy + (4y^2 -4)y^2$$\n",
    "\n",
    "has multiple global and local minima.\n",
    "\n",
    "- Find the global minima of this function\n",
    "- How many global minima are there, and what is the function value at those points?\n",
    "- What happens for an initial guess of $(x, y) = (0, 0)$?\n",
    "\n",
    "Hints:\n",
    "\n",
    "* Variables can be restricted to $-2 < x < 2$ and $-1 < y < 1$.\n",
    "* Use `numpy.meshgrid()` and `pylab.imshow()` to find visually the regions.\n",
    "* Use `scipy.optimize.minimize()`, optionally trying its optional arguments."
   ]
  },
  {
   "cell_type": "code",
   "execution_count": null,
   "metadata": {},
   "outputs": [],
   "source": [
    "def f(params):\n",
    "  print(params)\n",
    "  x, y = params\n",
    "  a = 4 - 2.1*x**2 + (x**4)/3\n",
    "  return a*x**2 + x*y + (4*y**2 - 4)*(y**2)"
   ]
  },
  {
   "cell_type": "code",
   "execution_count": null,
   "metadata": {},
   "outputs": [],
   "source": [
    "import numpy as np\n",
    "import pandas as pd\n",
    "import matplotlib.pyplot as plt\n",
    "from scipy.optimize import minimize"
   ]
  },
  {
   "cell_type": "code",
   "execution_count": null,
   "metadata": {},
   "outputs": [],
   "source": [
    "nx, ny = (5, 5)\n",
    "x = np.linspace(-2, 2, nx)\n",
    "y = np.linspace(-1, 1, ny)\n",
    "xv, yv = np.meshgrid(x, y)"
   ]
  },
  {
   "cell_type": "code",
   "execution_count": null,
   "metadata": {},
   "outputs": [],
   "source": [
    "plt.plot(xv, yv, marker='o', color='k', linestyle='none')\n",
    "plt.show()"
   ]
  },
  {
   "cell_type": "code",
   "execution_count": null,
   "metadata": {},
   "outputs": [],
   "source": [
    "z = f([xv, yv])\n",
    "z = z[:-1, :-1]\n",
    "z_min, z_max = -np.abs(z).max(), np.abs(z).max()"
   ]
  },
  {
   "cell_type": "code",
   "execution_count": null,
   "metadata": {},
   "outputs": [],
   "source": [
    "c = plt.imshow(z, cmap ='Greens', vmin = z_min, vmax = z_max,\n",
    "                 extent =[x.min(), x.max(), y.min(), y.max()],\n",
    "                    interpolation ='nearest', origin ='lower')\n",
    "plt.colorbar(c)\n",
    "  \n",
    "plt.title('Function', fontweight =\"bold\")\n",
    "plt.xlabel('x')\n",
    "plt.ylabel('y')\n",
    "plt.show()"
   ]
  },
  {
   "cell_type": "code",
   "execution_count": 2,
   "metadata": {},
   "outputs": [
    {
     "ename": "NameError",
     "evalue": "name 'minimize' is not defined",
     "output_type": "error",
     "traceback": [
      "\u001b[1;31m---------------------------------------------------------------------------\u001b[0m",
      "\u001b[1;31mNameError\u001b[0m                                 Traceback (most recent call last)",
      "Cell \u001b[1;32mIn[2], line 1\u001b[0m\n\u001b[1;32m----> 1\u001b[0m minimize(fun\u001b[39m=\u001b[39mf, x0\u001b[39m=\u001b[39m[\u001b[39m-\u001b[39m\u001b[39m2\u001b[39m, \u001b[39m-\u001b[39m\u001b[39m1\u001b[39m])\n",
      "\u001b[1;31mNameError\u001b[0m: name 'minimize' is not defined"
     ]
    }
   ],
   "source": [
    "minimize(fun=f, x0=[-2, -1])"
   ]
  },
  {
   "cell_type": "code",
   "execution_count": 1,
   "metadata": {},
   "outputs": [
    {
     "name": "stdout",
     "output_type": "stream",
     "text": [
      "result : {'x': 0.0898, 'y': -0.712}\n"
     ]
    }
   ],
   "source": [
    "global_minima = {'x':0.0898, 'y':-0.712}\n",
    "print(f\"result : {global_minima}\")"
   ]
  },
  {
   "cell_type": "markdown",
   "metadata": {},
   "source": [
    "2\\. **Non-linear ODE: the damped pendulum**\n",
    "\n",
    "The equation of the motion that a pendulum makes with respect to the angle $\\theta$ with the vertical is given by:\n",
    "\n",
    "$$\\frac{d^2\\theta}{dt^2} = -\\frac{1}{Q} \\frac{d\\theta}{dt} + \\sin\\theta + d \\cos\\Omega t$$\n",
    "\n",
    "where $t$ is time, $Q$ is the damping factor, $d$ is the forcing amplitude, and $\\Omega$ is the driving frequency of the forcing. \n",
    "\n",
    "This second order ODE needs to be written as two coupled first order ODEs defining a new variable $\\omega \\equiv d\\theta/dt$:\n",
    "\n",
    "$$\\frac{d\\theta}{dt} = \\omega$$\n",
    "$$\\frac{d\\omega}{dt} = -\\frac{1}{Q}\\,\\omega + \\sin\\theta + d \\cos\\Omega t$$\n",
    "\n",
    "Consider the initial conditions $\\theta_0 = \\omega_0 = 0$, and $Q = 2.0$, $d = 1.5$, and $\\omega = 0.65$.\n",
    "\n",
    " - Solve the ODE with `odeint` over a pariod of 200 time steps\n",
    " - Create two plots, one of $\\theta$ as a function of the time, and $\\omega$ as a function of the time\n",
    " - **Optional**: determine if there is a set of parameters for which the motion is chaotic."
   ]
  },
  {
   "cell_type": "code",
   "execution_count": null,
   "metadata": {},
   "outputs": [],
   "source": [
    "from scipy.integrate import odeint"
   ]
  },
  {
   "cell_type": "code",
   "execution_count": null,
   "metadata": {},
   "outputs": [],
   "source": [
    "def model1(omega, t):\n",
    "    dtheta_dt = omega\n",
    "    return dtheta_dt\n",
    "\n",
    "def model2(Q, omega, theta, d, t):\n",
    "    domega_dt = -omega/Q + np.sin(theta) + d*np.cos(t)\n",
    "    return domega_dt\n",
    "\n",
    "omega0 = 0\n",
    "theta0 = 0\n",
    "Q0 =2\n",
    "d0 = 1.5\n",
    "\n",
    "t = np.linspace(0,20)\n",
    "\n",
    "\n",
    "theta_t = odeint(model1,omega0, t=t)\n",
    "omega_t = odeint(model2,theta0, t=t, args=(Q0, omega0, d0))"
   ]
  },
  {
   "cell_type": "code",
   "execution_count": null,
   "metadata": {},
   "outputs": [],
   "source": [
    "plt.plot(t,theta_t)\n",
    "plt.xlabel('time')\n",
    "plt.ylabel('theta(t)')\n",
    "plt.show()"
   ]
  },
  {
   "cell_type": "code",
   "execution_count": null,
   "metadata": {},
   "outputs": [],
   "source": [
    "plt.plot(t,omega_t)\n",
    "plt.xlabel('time')\n",
    "plt.ylabel('omega(t)')\n",
    "plt.show()"
   ]
  },
  {
   "cell_type": "markdown",
   "metadata": {},
   "source": [
    "3\\. **FFT of a simple dataset**\n",
    "\n",
    "Perform a periodicity analysis on the lynxs-hares population, i.e. determine what is the period of the population of these animals.\n",
    "\n",
    "The dataset is the one dowloaded at the beginning of Lecture 06:\n",
    "\n",
    " - `!wget https://www.dropbox.com/s/ebe1cnyd2gm836a/populations.txt -P data/`"
   ]
  },
  {
   "cell_type": "code",
   "execution_count": null,
   "metadata": {},
   "outputs": [],
   "source": [
    "!wget https://www.dropbox.com/s/ebe1cnyd2gm836a/populations.txt -P data/\n",
    "df = pd.read_csv(\"/content/data/populations.txt\", delimiter='\\t')\n",
    "df"
   ]
  },
  {
   "cell_type": "code",
   "execution_count": null,
   "metadata": {},
   "outputs": [],
   "source": [
    "from numpy.fft import fft\n",
    "sr = 10\n",
    "X = fft(x)\n",
    "N = len(X)\n",
    "n = np.arange(N)\n",
    "T = N/sr\n",
    "freq = n/T \n",
    "\n",
    "plt.figure(figsize = (12, 6))\n",
    "plt.subplot(121)\n",
    "\n",
    "plt.stem(freq, np.abs(X), 'b', \\\n",
    "         markerfmt=\" \", basefmt=\"-b\")\n",
    "plt.xlabel('Freq (Hz)')\n",
    "plt.ylabel('FFT Amplitude |X(freq)|')\n",
    "plt.xlim(0, 10)\n",
    "plt.plot()"
   ]
  },
  {
   "cell_type": "markdown",
   "metadata": {},
   "source": [
    "4\\. **FFT of an image**\n",
    "\n",
    "Write a filter that removes the periodic noise from the `moonlanding.png` image by using a 2-dimensional FFT.\n",
    "\n",
    "* Import the image as a 2D numpy array using `plt.imread(\"images/moonlanding.png\")`. Examine the image with `plt.imshow()`, which is heavily contaminated with periodic noise.\n",
    "* Check the documentation of the `scipy.fftpack` package, and find the method that performs a 2D FFT. Plot the spectrum (Fourier transform of) the image. **Hint**: use `LogNorm` to plot the colors in log scale:\n",
    "```Python\n",
    "from matplotlib.colors import LogNorm\n",
    "plt.imshow(image, norm=LogNorm(vmin=5))\n",
    "```\n",
    "* Inspect the spectrum, and try to locate the regions of the power spectrum that contain the signal and those which contain the periodic noise. Use array slicing to set the noise regions to zero.\n",
    "* Apply the inverse Fourier transform to plot the resulting image."
   ]
  },
  {
   "cell_type": "code",
   "execution_count": 3,
   "metadata": {},
   "outputs": [
    {
     "ename": "ModuleNotFoundError",
     "evalue": "No module named 'scipy'",
     "output_type": "error",
     "traceback": [
      "\u001b[1;31m---------------------------------------------------------------------------\u001b[0m",
      "\u001b[1;31mModuleNotFoundError\u001b[0m                       Traceback (most recent call last)",
      "Cell \u001b[1;32mIn[3], line 1\u001b[0m\n\u001b[1;32m----> 1\u001b[0m \u001b[39mfrom\u001b[39;00m \u001b[39mscipy\u001b[39;00m\u001b[39m.\u001b[39;00m\u001b[39mstats\u001b[39;00m \u001b[39mimport\u001b[39;00m lognorm \u001b[39mas\u001b[39;00m LogNorm\n\u001b[0;32m      2\u001b[0m img \u001b[39m=\u001b[39m plt\u001b[39m.\u001b[39mimread(\u001b[39m\"\u001b[39m\u001b[39m/content/moonlanding.png\u001b[39m\u001b[39m\"\u001b[39m)\n\u001b[0;32m      3\u001b[0m plt\u001b[39m.\u001b[39mimshow(img, plt\u001b[39m.\u001b[39mcm\u001b[39m.\u001b[39mgray)\n",
      "\u001b[1;31mModuleNotFoundError\u001b[0m: No module named 'scipy'"
     ]
    }
   ],
   "source": [
    "from scipy.stats import lognorm as LogNorm\n",
    "img = plt.imread(\"/content/moonlanding.png\")\n",
    "plt.imshow(img, plt.cm.gray)\n",
    "plt.show()"
   ]
  }
 ],
 "metadata": {
  "kernelspec": {
   "display_name": "Python 3.10.8 64-bit",
   "language": "python",
   "name": "python3"
  },
  "language_info": {
   "codemirror_mode": {
    "name": "ipython",
    "version": 3
   },
   "file_extension": ".py",
   "mimetype": "text/x-python",
   "name": "python",
   "nbconvert_exporter": "python",
   "pygments_lexer": "ipython3",
   "version": "3.10.8"
  },
  "vscode": {
   "interpreter": {
    "hash": "2f5851b7de1ed89eb22bef06fbd218e8e011c8c545443e04320c8bad61c64920"
   }
  }
 },
 "nbformat": 4,
 "nbformat_minor": 2
}
